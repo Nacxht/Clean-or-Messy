{
  "nbformat": 4,
  "nbformat_minor": 0,
  "metadata": {
    "colab": {
      "provenance": [],
      "gpuType": "T4",
      "authorship_tag": "ABX9TyMDLGed+3z5Lkxh8wfEeru7",
      "include_colab_link": true
    },
    "kernelspec": {
      "name": "python3",
      "display_name": "Python 3"
    },
    "language_info": {
      "name": "python"
    },
    "accelerator": "GPU"
  },
  "cells": [
    {
      "cell_type": "markdown",
      "metadata": {
        "id": "view-in-github",
        "colab_type": "text"
      },
      "source": [
        "<a href=\"https://colab.research.google.com/github/Nacxht/Clean-or-Messy/blob/main/clean_or_messy.ipynb\" target=\"_parent\"><img src=\"https://colab.research.google.com/assets/colab-badge.svg\" alt=\"Open In Colab\"/></a>"
      ]
    },
    {
      "cell_type": "markdown",
      "source": [
        "# Download Datasets"
      ],
      "metadata": {
        "id": "CMUFvQp9sn0B"
      }
    },
    {
      "cell_type": "code",
      "source": [
        "!wget --no-check-certificate \\\n",
        "  https://dicoding-academy-assets.sgp1.cdn.digitaloceanspaces.com/184/messy-vs-clean-room.zip \\\n",
        "  -O /tmp/messy_vs_clean_room.zip"
      ],
      "metadata": {
        "colab": {
          "base_uri": "https://localhost:8080/"
        },
        "id": "Olnf9enJslvn",
        "outputId": "d0764108-de03-4624-e1c3-1981573a6c31"
      },
      "execution_count": null,
      "outputs": [
        {
          "output_type": "stream",
          "name": "stdout",
          "text": [
            "--2023-12-05 08:22:45--  https://dicoding-academy-assets.sgp1.cdn.digitaloceanspaces.com/184/messy-vs-clean-room.zip\n",
            "Resolving dicoding-academy-assets.sgp1.cdn.digitaloceanspaces.com (dicoding-academy-assets.sgp1.cdn.digitaloceanspaces.com)... 104.18.13.192, 104.18.12.192, 2606:4700::6812:cc0, ...\n",
            "Connecting to dicoding-academy-assets.sgp1.cdn.digitaloceanspaces.com (dicoding-academy-assets.sgp1.cdn.digitaloceanspaces.com)|104.18.13.192|:443... connected.\n",
            "HTTP request sent, awaiting response... 200 OK\n",
            "Cookie coming from dicoding-academy-assets.sgp1.cdn.digitaloceanspaces.com attempted to set domain to digitaloceanspaces.com\n",
            "Length: 70392746 (67M) [application/zip]\n",
            "Saving to: ‘/tmp/messy_vs_clean_room.zip’\n",
            "\n",
            "/tmp/messy_vs_clean 100%[===================>]  67.13M   136MB/s    in 0.5s    \n",
            "\n",
            "2023-12-05 08:22:46 (136 MB/s) - ‘/tmp/messy_vs_clean_room.zip’ saved [70392746/70392746]\n",
            "\n"
          ]
        }
      ]
    },
    {
      "cell_type": "markdown",
      "source": [
        "# Import Library"
      ],
      "metadata": {
        "id": "pDEoQ3EtHucD"
      }
    },
    {
      "cell_type": "code",
      "execution_count": null,
      "metadata": {
        "id": "vtw03iZTG1o-"
      },
      "outputs": [],
      "source": [
        "import tensorflow as tf\n",
        "from tensorflow.keras.preprocessing.image import ImageDataGenerator\n",
        "from tensorflow.keras.preprocessing import image\n",
        "import matplotlib.pyplot as plt\n",
        "import matplotlib.image as mpimg\n",
        "\n",
        "import numpy as np\n",
        "\n",
        "import zipfile\n",
        "import os\n",
        "from google.colab import files"
      ]
    },
    {
      "cell_type": "markdown",
      "source": [
        "# Mengekstrak Data\n",
        "Mengekstrak data dari zip yang telah diunduh.\n",
        "Lalu mendefinisikan nama direktori untuk data latih dan data validasi"
      ],
      "metadata": {
        "id": "a8EnrFyXIJuc"
      }
    },
    {
      "cell_type": "code",
      "source": [
        "# Ekstrak data dari zip\n",
        "local_zip = '/tmp/messy_vs_clean_room.zip'\n",
        "zip_ref = zipfile.ZipFile(local_zip, 'r')\n",
        "zip_ref.extractall('/tmp')\n",
        "zip_ref.close()\n",
        "\n",
        "base_dir = '/tmp/images'\n",
        "train_dir = os.path.join(base_dir, 'train')\n",
        "validation_dir = os.path.join(base_dir, 'val')"
      ],
      "metadata": {
        "id": "xX6jKvRlH_g6"
      },
      "execution_count": null,
      "outputs": []
    },
    {
      "cell_type": "markdown",
      "source": [
        "# Augmentasi Gambar\n",
        "proses augmentasi gambar menggunakan image data generator"
      ],
      "metadata": {
        "id": "zJiWBqbJMa2R"
      }
    },
    {
      "cell_type": "code",
      "source": [
        "# Train datagen\n",
        "train_datagen = ImageDataGenerator(\n",
        "    rescale=1./255,\n",
        "    rotation_range=20,\n",
        "    horizontal_flip=True,\n",
        "    fill_mode='nearest'\n",
        ")\n",
        "\n",
        "# Test datagen\n",
        "test_datagen = ImageDataGenerator(\n",
        "    rescale=1./255\n",
        ")"
      ],
      "metadata": {
        "id": "LRvfr2ZXNcsi"
      },
      "execution_count": null,
      "outputs": []
    },
    {
      "cell_type": "markdown",
      "source": [
        "# Menyiapkan Data Train & Validasi"
      ],
      "metadata": {
        "id": "prZSRZp6S5CH"
      }
    },
    {
      "cell_type": "code",
      "source": [
        "train_generator = train_datagen.flow_from_directory(\n",
        "    train_dir, # Direktori data latih\n",
        "    target_size=(150, 150), # Mengubah seluruh resolusi gambar menjadi 150 * 150 pixel\n",
        "    batch_size=4,\n",
        "\n",
        "    # Karena klasifikasi 2 kelas, maka menggunakan class_mode='binary'\n",
        "    class_mode='binary'\n",
        ")\n",
        "\n",
        "validation_generator = test_datagen.flow_from_directory(\n",
        "    validation_dir, # Direktori data validasi\n",
        "    target_size=(150, 150), # Mengubah resolusi gambar menjadi 150 * 150 pixel\n",
        "    batch_size=4,\n",
        "\n",
        "    # Karena klasifikasi 2 kelas, maka menggunakan class_mode='binary'\n",
        "    class_mode='binary'\n",
        ")"
      ],
      "metadata": {
        "id": "MAF8B9ykS9rO",
        "colab": {
          "base_uri": "https://localhost:8080/"
        },
        "outputId": "66dbf69a-cdd9-44d8-f433-9f9998e8979e"
      },
      "execution_count": null,
      "outputs": [
        {
          "output_type": "stream",
          "name": "stdout",
          "text": [
            "Found 192 images belonging to 2 classes.\n",
            "Found 20 images belonging to 2 classes.\n"
          ]
        }
      ]
    },
    {
      "cell_type": "markdown",
      "source": [
        "# Membuat Model CNN"
      ],
      "metadata": {
        "id": "VVoRIcKYzLoJ"
      }
    },
    {
      "cell_type": "code",
      "source": [
        "model = tf.keras.models.Sequential([\n",
        "    tf.keras.layers.Conv2D(32, (3,3), activation='relu', input_shape=(150, 150, 3)),\n",
        "    tf.keras.layers.MaxPooling2D(2, 2),\n",
        "    tf.keras.layers.Conv2D(64, (3,3), activation='relu'),\n",
        "    tf.keras.layers.MaxPooling2D(2,2),\n",
        "    tf.keras.layers.Conv2D(128, (3,3), activation='relu'),\n",
        "    tf.keras.layers.MaxPooling2D(2,2),\n",
        "    tf.keras.layers.Conv2D(512, (3,3), activation='relu'),\n",
        "    tf.keras.layers.MaxPooling2D(2,2),\n",
        "    tf.keras.layers.Flatten(),\n",
        "    tf.keras.layers.Dense(512, activation='relu'),\n",
        "    tf.keras.layers.Dense(1, activation='sigmoid')\n",
        "])"
      ],
      "metadata": {
        "id": "t8rwt1ZgzPeg"
      },
      "execution_count": null,
      "outputs": []
    },
    {
      "cell_type": "markdown",
      "source": [
        "# Summary Dari Arsitektur Model"
      ],
      "metadata": {
        "id": "Lgu6cwm0zXN-"
      }
    },
    {
      "cell_type": "code",
      "source": [
        "model.summary()"
      ],
      "metadata": {
        "colab": {
          "base_uri": "https://localhost:8080/"
        },
        "id": "a8aLA5a2zi2w",
        "outputId": "3c2e8c70-40ba-45f2-ed98-8a446ecd383d"
      },
      "execution_count": null,
      "outputs": [
        {
          "output_type": "stream",
          "name": "stdout",
          "text": [
            "Model: \"sequential\"\n",
            "_________________________________________________________________\n",
            " Layer (type)                Output Shape              Param #   \n",
            "=================================================================\n",
            " conv2d (Conv2D)             (None, 148, 148, 32)      896       \n",
            "                                                                 \n",
            " max_pooling2d (MaxPooling2  (None, 74, 74, 32)        0         \n",
            " D)                                                              \n",
            "                                                                 \n",
            " conv2d_1 (Conv2D)           (None, 72, 72, 64)        18496     \n",
            "                                                                 \n",
            " max_pooling2d_1 (MaxPoolin  (None, 36, 36, 64)        0         \n",
            " g2D)                                                            \n",
            "                                                                 \n",
            " conv2d_2 (Conv2D)           (None, 34, 34, 128)       73856     \n",
            "                                                                 \n",
            " max_pooling2d_2 (MaxPoolin  (None, 17, 17, 128)       0         \n",
            " g2D)                                                            \n",
            "                                                                 \n",
            " conv2d_3 (Conv2D)           (None, 15, 15, 512)       590336    \n",
            "                                                                 \n",
            " max_pooling2d_3 (MaxPoolin  (None, 7, 7, 512)         0         \n",
            " g2D)                                                            \n",
            "                                                                 \n",
            " flatten (Flatten)           (None, 25088)             0         \n",
            "                                                                 \n",
            " dense (Dense)               (None, 512)               12845568  \n",
            "                                                                 \n",
            " dense_1 (Dense)             (None, 1)                 513       \n",
            "                                                                 \n",
            "=================================================================\n",
            "Total params: 13529665 (51.61 MB)\n",
            "Trainable params: 13529665 (51.61 MB)\n",
            "Non-trainable params: 0 (0.00 Byte)\n",
            "_________________________________________________________________\n"
          ]
        }
      ]
    },
    {
      "cell_type": "markdown",
      "source": [
        "# Melakukan Compile Pada Model\n",
        "Karena ini merupakan klasifikasi biner, maka kita akan menggunakan loss function \"binary_crossentropy\". \\\n",
        "Optimizer nya menggunakan \"Adam optimizer\" karena mudah diterapkan."
      ],
      "metadata": {
        "id": "ipv9auYYzuVu"
      }
    },
    {
      "cell_type": "code",
      "source": [
        "model.compile(\n",
        "    loss='binary_crossentropy',\n",
        "    optimizer=tf.optimizers.Adam(),\n",
        "    metrics=['accuracy']\n",
        ")"
      ],
      "metadata": {
        "id": "51YtqqMrz0x3"
      },
      "execution_count": null,
      "outputs": []
    },
    {
      "cell_type": "markdown",
      "source": [
        "# Melatih Model\n"
      ],
      "metadata": {
        "id": "2zNPg4eh0rid"
      }
    },
    {
      "cell_type": "code",
      "source": [
        "model.fit(\n",
        "    train_generator,\n",
        "    steps_per_epoch=25, # Berapa banyak batch yang akan dieksekusi pada tiap epoch\n",
        "    epochs=20, # Tambahkan epoch jika akurasi model belum optimal\n",
        "    validation_data=validation_generator, # Menampilkan akurasi pengujian data validasi\n",
        "    validation_steps=5, # Berapa batch yang akan dieksekusi pada setiap epoch\n",
        "    verbose=2\n",
        ")"
      ],
      "metadata": {
        "colab": {
          "base_uri": "https://localhost:8080/"
        },
        "id": "86GHE3RM0314",
        "outputId": "f329df2d-1199-468f-811a-a38301dd567c"
      },
      "execution_count": null,
      "outputs": [
        {
          "output_type": "stream",
          "name": "stdout",
          "text": [
            "Epoch 1/20\n",
            "25/25 - 14s - loss: 0.8170 - accuracy: 0.5000 - val_loss: 0.6882 - val_accuracy: 0.5500 - 14s/epoch - 547ms/step\n",
            "Epoch 2/20\n",
            "25/25 - 1s - loss: 0.6915 - accuracy: 0.5400 - val_loss: 0.6836 - val_accuracy: 0.7500 - 1s/epoch - 43ms/step\n",
            "Epoch 3/20\n",
            "25/25 - 2s - loss: 0.6823 - accuracy: 0.6100 - val_loss: 0.6839 - val_accuracy: 0.5000 - 2s/epoch - 74ms/step\n",
            "Epoch 4/20\n",
            "25/25 - 1s - loss: 0.6916 - accuracy: 0.4900 - val_loss: 0.6446 - val_accuracy: 0.5500 - 1s/epoch - 53ms/step\n",
            "Epoch 5/20\n",
            "25/25 - 1s - loss: 0.6672 - accuracy: 0.6300 - val_loss: 0.6334 - val_accuracy: 0.7000 - 1s/epoch - 41ms/step\n",
            "Epoch 6/20\n",
            "25/25 - 1s - loss: 0.6708 - accuracy: 0.6000 - val_loss: 0.5685 - val_accuracy: 0.8000 - 1s/epoch - 42ms/step\n",
            "Epoch 7/20\n",
            "25/25 - 1s - loss: 0.6666 - accuracy: 0.6000 - val_loss: 0.6194 - val_accuracy: 0.7000 - 1s/epoch - 42ms/step\n",
            "Epoch 8/20\n",
            "25/25 - 1s - loss: 0.5978 - accuracy: 0.7000 - val_loss: 0.5783 - val_accuracy: 0.6500 - 1s/epoch - 50ms/step\n",
            "Epoch 9/20\n",
            "25/25 - 1s - loss: 0.5917 - accuracy: 0.7400 - val_loss: 0.5303 - val_accuracy: 0.8000 - 1s/epoch - 43ms/step\n",
            "Epoch 10/20\n",
            "25/25 - 1s - loss: 0.5428 - accuracy: 0.7600 - val_loss: 0.5478 - val_accuracy: 0.7500 - 1s/epoch - 42ms/step\n",
            "Epoch 11/20\n",
            "25/25 - 1s - loss: 0.6411 - accuracy: 0.6000 - val_loss: 0.5615 - val_accuracy: 0.7000 - 1s/epoch - 43ms/step\n",
            "Epoch 12/20\n",
            "25/25 - 1s - loss: 0.5819 - accuracy: 0.7200 - val_loss: 0.4756 - val_accuracy: 0.6500 - 1s/epoch - 42ms/step\n",
            "Epoch 13/20\n",
            "25/25 - 2s - loss: 0.5441 - accuracy: 0.7000 - val_loss: 0.5210 - val_accuracy: 0.6500 - 2s/epoch - 72ms/step\n",
            "Epoch 14/20\n",
            "25/25 - 2s - loss: 0.5262 - accuracy: 0.7500 - val_loss: 0.4662 - val_accuracy: 0.7500 - 2s/epoch - 76ms/step\n",
            "Epoch 15/20\n",
            "25/25 - 1s - loss: 0.5212 - accuracy: 0.7100 - val_loss: 0.4626 - val_accuracy: 0.8000 - 1s/epoch - 52ms/step\n",
            "Epoch 16/20\n",
            "25/25 - 1s - loss: 0.4869 - accuracy: 0.7600 - val_loss: 0.4606 - val_accuracy: 0.7500 - 1s/epoch - 44ms/step\n",
            "Epoch 17/20\n",
            "25/25 - 1s - loss: 0.5581 - accuracy: 0.7000 - val_loss: 0.5643 - val_accuracy: 0.6500 - 1s/epoch - 43ms/step\n",
            "Epoch 18/20\n",
            "25/25 - 1s - loss: 0.4696 - accuracy: 0.7700 - val_loss: 0.4262 - val_accuracy: 0.8000 - 1s/epoch - 43ms/step\n",
            "Epoch 19/20\n",
            "25/25 - 1s - loss: 0.5345 - accuracy: 0.7800 - val_loss: 0.4983 - val_accuracy: 0.7000 - 1s/epoch - 42ms/step\n",
            "Epoch 20/20\n",
            "25/25 - 1s - loss: 0.5385 - accuracy: 0.7300 - val_loss: 0.4742 - val_accuracy: 0.8000 - 1s/epoch - 42ms/step\n"
          ]
        },
        {
          "output_type": "execute_result",
          "data": {
            "text/plain": [
              "<keras.src.callbacks.History at 0x7e6a086b31c0>"
            ]
          },
          "metadata": {},
          "execution_count": 17
        }
      ]
    },
    {
      "cell_type": "markdown",
      "source": [
        "# Menguji Model\n",
        "Bagian untuk menguji model dengan data baru atau data yang belum dikenal oleh model. \\\n",
        "Model akan memprediksi foto suatu ruangan dan menentukan apakah ruangan tersebut bersih atau berantakan.\n",
        "\\\n",
        "\\\n",
        "Run kode dibawah dan upload gambar suatu ruangan yang anda inginkan, dan model akan menentukan bersih atau tidaknya ruangan dari gambar yang anda kirim."
      ],
      "metadata": {
        "id": "304HkbFz1foj"
      }
    },
    {
      "cell_type": "code",
      "source": [
        "%matplotlib inline\n",
        "\n",
        "\n",
        "uploaded = files.upload()\n",
        "\n",
        "for fn in uploaded.keys():\n",
        "  # Memprediksi gambar\n",
        "  path = fn\n",
        "  img = image.load_img(path, target_size=(150, 150))\n",
        "\n",
        "  imgplot = plt.imshow(img)\n",
        "  x = image.img_to_array(img)\n",
        "  x = np.expand_dims(x, axis=0)\n",
        "  images = np.vstack([x])\n",
        "\n",
        "  classes = model.predict(images, batch_size=10)\n",
        "\n",
        "  print(fn)\n",
        "  if classes == 0:\n",
        "    print('Clean')\n",
        "  else:\n",
        "    print('Messy')"
      ],
      "metadata": {
        "colab": {
          "base_uri": "https://localhost:8080/",
          "height": 39
        },
        "id": "36BCKa_j1-p9",
        "outputId": "896f7751-7b46-4c06-af3c-b1128b48dd78"
      },
      "execution_count": null,
      "outputs": [
        {
          "output_type": "display_data",
          "data": {
            "text/plain": [
              "<IPython.core.display.HTML object>"
            ],
            "text/html": [
              "\n",
              "     <input type=\"file\" id=\"files-8b38cc25-1dde-4bc0-b9e7-47c5fdc1eeee\" name=\"files[]\" multiple disabled\n",
              "        style=\"border:none\" />\n",
              "     <output id=\"result-8b38cc25-1dde-4bc0-b9e7-47c5fdc1eeee\">\n",
              "      Upload widget is only available when the cell has been executed in the\n",
              "      current browser session. Please rerun this cell to enable.\n",
              "      </output>\n",
              "      <script>// Copyright 2017 Google LLC\n",
              "//\n",
              "// Licensed under the Apache License, Version 2.0 (the \"License\");\n",
              "// you may not use this file except in compliance with the License.\n",
              "// You may obtain a copy of the License at\n",
              "//\n",
              "//      http://www.apache.org/licenses/LICENSE-2.0\n",
              "//\n",
              "// Unless required by applicable law or agreed to in writing, software\n",
              "// distributed under the License is distributed on an \"AS IS\" BASIS,\n",
              "// WITHOUT WARRANTIES OR CONDITIONS OF ANY KIND, either express or implied.\n",
              "// See the License for the specific language governing permissions and\n",
              "// limitations under the License.\n",
              "\n",
              "/**\n",
              " * @fileoverview Helpers for google.colab Python module.\n",
              " */\n",
              "(function(scope) {\n",
              "function span(text, styleAttributes = {}) {\n",
              "  const element = document.createElement('span');\n",
              "  element.textContent = text;\n",
              "  for (const key of Object.keys(styleAttributes)) {\n",
              "    element.style[key] = styleAttributes[key];\n",
              "  }\n",
              "  return element;\n",
              "}\n",
              "\n",
              "// Max number of bytes which will be uploaded at a time.\n",
              "const MAX_PAYLOAD_SIZE = 100 * 1024;\n",
              "\n",
              "function _uploadFiles(inputId, outputId) {\n",
              "  const steps = uploadFilesStep(inputId, outputId);\n",
              "  const outputElement = document.getElementById(outputId);\n",
              "  // Cache steps on the outputElement to make it available for the next call\n",
              "  // to uploadFilesContinue from Python.\n",
              "  outputElement.steps = steps;\n",
              "\n",
              "  return _uploadFilesContinue(outputId);\n",
              "}\n",
              "\n",
              "// This is roughly an async generator (not supported in the browser yet),\n",
              "// where there are multiple asynchronous steps and the Python side is going\n",
              "// to poll for completion of each step.\n",
              "// This uses a Promise to block the python side on completion of each step,\n",
              "// then passes the result of the previous step as the input to the next step.\n",
              "function _uploadFilesContinue(outputId) {\n",
              "  const outputElement = document.getElementById(outputId);\n",
              "  const steps = outputElement.steps;\n",
              "\n",
              "  const next = steps.next(outputElement.lastPromiseValue);\n",
              "  return Promise.resolve(next.value.promise).then((value) => {\n",
              "    // Cache the last promise value to make it available to the next\n",
              "    // step of the generator.\n",
              "    outputElement.lastPromiseValue = value;\n",
              "    return next.value.response;\n",
              "  });\n",
              "}\n",
              "\n",
              "/**\n",
              " * Generator function which is called between each async step of the upload\n",
              " * process.\n",
              " * @param {string} inputId Element ID of the input file picker element.\n",
              " * @param {string} outputId Element ID of the output display.\n",
              " * @return {!Iterable<!Object>} Iterable of next steps.\n",
              " */\n",
              "function* uploadFilesStep(inputId, outputId) {\n",
              "  const inputElement = document.getElementById(inputId);\n",
              "  inputElement.disabled = false;\n",
              "\n",
              "  const outputElement = document.getElementById(outputId);\n",
              "  outputElement.innerHTML = '';\n",
              "\n",
              "  const pickedPromise = new Promise((resolve) => {\n",
              "    inputElement.addEventListener('change', (e) => {\n",
              "      resolve(e.target.files);\n",
              "    });\n",
              "  });\n",
              "\n",
              "  const cancel = document.createElement('button');\n",
              "  inputElement.parentElement.appendChild(cancel);\n",
              "  cancel.textContent = 'Cancel upload';\n",
              "  const cancelPromise = new Promise((resolve) => {\n",
              "    cancel.onclick = () => {\n",
              "      resolve(null);\n",
              "    };\n",
              "  });\n",
              "\n",
              "  // Wait for the user to pick the files.\n",
              "  const files = yield {\n",
              "    promise: Promise.race([pickedPromise, cancelPromise]),\n",
              "    response: {\n",
              "      action: 'starting',\n",
              "    }\n",
              "  };\n",
              "\n",
              "  cancel.remove();\n",
              "\n",
              "  // Disable the input element since further picks are not allowed.\n",
              "  inputElement.disabled = true;\n",
              "\n",
              "  if (!files) {\n",
              "    return {\n",
              "      response: {\n",
              "        action: 'complete',\n",
              "      }\n",
              "    };\n",
              "  }\n",
              "\n",
              "  for (const file of files) {\n",
              "    const li = document.createElement('li');\n",
              "    li.append(span(file.name, {fontWeight: 'bold'}));\n",
              "    li.append(span(\n",
              "        `(${file.type || 'n/a'}) - ${file.size} bytes, ` +\n",
              "        `last modified: ${\n",
              "            file.lastModifiedDate ? file.lastModifiedDate.toLocaleDateString() :\n",
              "                                    'n/a'} - `));\n",
              "    const percent = span('0% done');\n",
              "    li.appendChild(percent);\n",
              "\n",
              "    outputElement.appendChild(li);\n",
              "\n",
              "    const fileDataPromise = new Promise((resolve) => {\n",
              "      const reader = new FileReader();\n",
              "      reader.onload = (e) => {\n",
              "        resolve(e.target.result);\n",
              "      };\n",
              "      reader.readAsArrayBuffer(file);\n",
              "    });\n",
              "    // Wait for the data to be ready.\n",
              "    let fileData = yield {\n",
              "      promise: fileDataPromise,\n",
              "      response: {\n",
              "        action: 'continue',\n",
              "      }\n",
              "    };\n",
              "\n",
              "    // Use a chunked sending to avoid message size limits. See b/62115660.\n",
              "    let position = 0;\n",
              "    do {\n",
              "      const length = Math.min(fileData.byteLength - position, MAX_PAYLOAD_SIZE);\n",
              "      const chunk = new Uint8Array(fileData, position, length);\n",
              "      position += length;\n",
              "\n",
              "      const base64 = btoa(String.fromCharCode.apply(null, chunk));\n",
              "      yield {\n",
              "        response: {\n",
              "          action: 'append',\n",
              "          file: file.name,\n",
              "          data: base64,\n",
              "        },\n",
              "      };\n",
              "\n",
              "      let percentDone = fileData.byteLength === 0 ?\n",
              "          100 :\n",
              "          Math.round((position / fileData.byteLength) * 100);\n",
              "      percent.textContent = `${percentDone}% done`;\n",
              "\n",
              "    } while (position < fileData.byteLength);\n",
              "  }\n",
              "\n",
              "  // All done.\n",
              "  yield {\n",
              "    response: {\n",
              "      action: 'complete',\n",
              "    }\n",
              "  };\n",
              "}\n",
              "\n",
              "scope.google = scope.google || {};\n",
              "scope.google.colab = scope.google.colab || {};\n",
              "scope.google.colab._files = {\n",
              "  _uploadFiles,\n",
              "  _uploadFilesContinue,\n",
              "};\n",
              "})(self);\n",
              "</script> "
            ]
          },
          "metadata": {}
        }
      ]
    }
  ]
}